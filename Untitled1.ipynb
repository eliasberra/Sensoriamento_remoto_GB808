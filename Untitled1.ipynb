{
  "nbformat": 4,
  "nbformat_minor": 0,
  "metadata": {
    "colab": {
      "name": "Untitled1.ipynb",
      "provenance": [],
      "authorship_tag": "ABX9TyNNerj7uvwJGhRDb/Mv7G0J",
      "include_colab_link": true
    },
    "kernelspec": {
      "name": "python3",
      "display_name": "Python 3"
    },
    "language_info": {
      "name": "python"
    }
  },
  "cells": [
    {
      "cell_type": "markdown",
      "metadata": {
        "id": "view-in-github",
        "colab_type": "text"
      },
      "source": [
        "<a href=\"https://colab.research.google.com/github/eliasberra/Sensoriamento_remoto_GB808/blob/main/Untitled1.ipynb\" target=\"_parent\"><img src=\"https://colab.research.google.com/assets/colab-badge.svg\" alt=\"Open In Colab\"/></a>"
      ]
    },
    {
      "cell_type": "markdown",
      "source": [
        "Now the last step for today is to save your code, however before doing that it is good practice to add a some comment lines to your code reminding you of what you did and why. We add these with two forward slashes // :"
      ],
      "metadata": {
        "id": "z5a0jh7QIHjP"
      }
    },
    {
      "cell_type": "code",
      "execution_count": null,
      "metadata": {
        "id": "cS_PLiaXHyuM"
      },
      "outputs": [],
      "source": [
        "# Print data details to console\n",
        "print(srtm);\n",
        "\n",
        "# Add the SRTM data to the interactive map\n",
        "Map.addLayer(srtm)\n",
        "\n",
        "# Add the data again, but with rescrited value ranges for better visualisation\n",
        "Map.addLayer(srtm, {min: 0, max: 300})\n",
        "\n",
        "# Add the data again, with value ranges, and a useful title for teh Layer tab\n",
        "Map.addLayer(srtm, {min: 0, max: 300}, 'Elevation above sea level');"
      ]
    },
    {
      "cell_type": "markdown",
      "source": [
        ""
      ],
      "metadata": {
        "id": "6ki2FEp0H5XA"
      }
    }
  ]
}